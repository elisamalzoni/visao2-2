{
 "cells": [
  {
   "cell_type": "markdown",
   "metadata": {},
   "source": [
    "## Elisa Malzoni"
   ]
  },
  {
   "cell_type": "markdown",
   "metadata": {},
   "source": [
    "___\n",
    "## Projeto 2-2: Contagem de Pessoas\n",
    "\n",
    "**Motivação**: http://www.cvg.reading.ac.uk/PETS2009/a.html#s1\n",
    "\n",
    "Objetivo: Vocês devem tentar realizar a contagem de pessoas no dataset S1.L1 utilizando o modelo de codebook. As imagens foram distribuídas via pendrive.\n",
    "\n",
    "Requisitos:\n",
    "  * Tem que usar o modelo de codebook do artigo.\n",
    "  * A partir da separação do foreground, vocês podem utilizar qualquer método para realizar a contagem, incluindo Clustering ou Machine Learning.\n",
    "  * O Repositório no Git deve conter além do código fonte, os dados do codebook treinado salvo com Pickle e um relatório do projeto.\n",
    "  * O relatório deve conter a metodologia utilizada (incluindo treinamento) e comentário sobre os resultados obtidos.\n",
    "\n",
    "### Entrega: 03/Out 23:59 via GitHub.\n",
    "\n",
    "### Rubrica do Projeto:\n",
    "\n",
    "    I. Não entregou ou entregou apenas um rascunho.\n",
    "    D. Implementou parcialmente o artigo ou não realizou a contagem.\n",
    "    C. Implementou a sessão 2 do artigo e realizou uma contagem de forma simples.\n",
    "    B. Cumpriu a rubrica C com a implementação completa do codebook.\n",
    "    A. Além de cumprir a rubrica B, realiza a contagem com uma técnica elaborada.\n",
    "    \n",
    "    -1 Conceito se o relatório estiver ausente ou insatisfatório."
   ]
  },
  {
   "cell_type": "markdown",
   "metadata": {},
   "source": []
  },
  {
   "cell_type": "code",
   "execution_count": 74,
   "metadata": {},
   "outputs": [],
   "source": [
    "%reset -f\n",
    "%matplotlib inline\n",
    "\n",
    "import cv2\n",
    "import numpy as np\n",
    "import matplotlib.pyplot as plt\n",
    "import math\n",
    "import time\n",
    "import pickle\n",
    "from tqdm import tqdm\n",
    "from PIL import Image\n"
   ]
  },
  {
   "cell_type": "code",
   "execution_count": 75,
   "metadata": {},
   "outputs": [],
   "source": [
    "class Codeword():\n",
    "    def __init__(self, v, aux):\n",
    "        self.v = v\n",
    "        self.aux = aux"
   ]
  },
  {
   "cell_type": "code",
   "execution_count": 76,
   "metadata": {},
   "outputs": [],
   "source": [
    "def colordist(x, v): \n",
    "    normaxt2 = ((x[0]**2) + (x[1]**2) + (x[2]**2))\n",
    "    normavi2 = v[0]**2 + v[1]**2 +v[2]**2\n",
    "    tupxtvi2 = (v[0]*x[0] + v[1]*x[1] + v[2]*x[2])**2\n",
    "    if normavi2 == 0:\n",
    "        p2 = 0\n",
    "    else:\n",
    "        p2 = (tupxtvi2/normavi2)\n",
    "\n",
    "    return math.sqrt(abs((normaxt2) - (p2)))\n",
    "\n",
    "\n",
    "def brightness(xt, Imax, Imin):\n",
    "    alpha = 0.4\n",
    "    beta = 1.1\n",
    "    Ilow = alpha* Imax\n",
    "    Ihi = min(beta*Imax, Imin/alpha)\n",
    "    normaxt= math.sqrt(xt[0]**2 + xt[1]**2 + xt[2]**2)\n",
    "    if (Ilow <= normaxt and normaxt <= Ihi):\n",
    "        return True\n",
    "    return False"
   ]
  },
  {
   "cell_type": "code",
   "execution_count": 77,
   "metadata": {},
   "outputs": [
    {
     "name": "stderr",
     "output_type": "stream",
     "text": [
      "100%|██████████| 7/7 [00:38<00:00,  6.09s/it]\n"
     ]
    }
   ],
   "source": [
    "list_img = [\"00000001.jpg\",\"00000154.jpg\",\"00000211.jpg\",\"00000425.jpg\",\"00000050.jpg\",\"00000446.jpg\",\"00000291.jpg\"]\n",
    "N = len(list_img)\n",
    "img = cv2.imread(\"00000001.jpg\")\n",
    "\n",
    "C =[]\n",
    "for i in range(img.shape[0]):\n",
    "    C.append([])\n",
    "    for j in range (img.shape[1]):\n",
    "        C[i].append([])\n",
    "\n",
    "\n",
    "E1 = 12\n",
    "\n",
    "for t in tqdm(range(1, N+1)):\n",
    "    # str_img = \"../visao2_2/S0_BG/Crowd_PETS09/S0/Background/View_001/Time_13-06/\" + list_img[t-1]\n",
    "\n",
    "    img = cv2.imread(list_img[t-1])\n",
    "    img = img.astype(float)\n",
    "    for linha in range(img.shape[0]):\n",
    "        for coluna in range(img.shape[1]):\n",
    "            xt = img[linha, coluna, :]\n",
    "            I = math.sqrt(xt[0]**2 + xt[1]**2 + xt[2]**2)\n",
    "            match = False\n",
    "            for cw in C[linha][coluna]:\n",
    "                if (colordist(xt, cw.v) <= E1) and (brightness(xt, cw.aux[0],cw.aux[1])):\n",
    "                    #atuliza codeword\n",
    "                    fm = cw.v[2]\n",
    "                    Rm = (fm*cw.v[0] + xt[0])/ (fm + 1)\n",
    "                    Gm = (fm*cw.v[1] + xt[1])/ (fm + 1)\n",
    "                    Bm = (fm*cw.v[2] + xt[2])/ (fm + 1)\n",
    "                    cw.v = (Rm, Gm, Bm)\n",
    "                    cw.aux[0] = min(I, cw.aux[0])\n",
    "                    cw.aux[1] = max(I, cw.aux[1])\n",
    "                    cw.aux[2] = fm + 1\n",
    "                    cw.aux[3] = max(cw.aux[3], t - cw.aux[5])\n",
    "                    cw.aux[4] = cw.aux[4] ### ???\n",
    "                    cw.aux[5] = t\n",
    "                    match = True\n",
    "\n",
    "                    break\n",
    "\n",
    "            if not match:\n",
    "                newcw = Codeword(xt, [I, I, 1, t-1, t, t])\n",
    "                \n",
    "                C[linha][coluna].append(newcw)\n",
    "\n",
    "    #atuliza lambda com for nos codewords\n",
    "    for linha in range(img.shape[0]):\n",
    "        for coluna in range(img.shape[1]):\n",
    "            for cw in C[linha][coluna]:\n",
    "                cw.aux[3] = max(cw.aux[3],(N - cw.aux[5] + cw.aux[4] - 1))\n",
    "outfile = open('codebook.p', 'wb')\n",
    "pickle.dump(C, outfile)\n",
    "outfile.close()\n"
   ]
  },
  {
   "cell_type": "code",
   "execution_count": 78,
   "metadata": {},
   "outputs": [],
   "source": [
    "infile = open(\"codebook.p\",'rb')\n",
    "C = pickle.load(infile)\n"
   ]
  },
  {
   "cell_type": "code",
   "execution_count": 79,
   "metadata": {},
   "outputs": [
    {
     "data": {
      "text/plain": [
       "<__main__.Codeword at 0x7feecc0caf98>"
      ]
     },
     "execution_count": 79,
     "metadata": {},
     "output_type": "execute_result"
    }
   ],
   "source": [
    "C[0][0][0]"
   ]
  },
  {
   "cell_type": "code",
   "execution_count": 80,
   "metadata": {},
   "outputs": [],
   "source": [
    "img = cv2.imread(\"frame_0000.jpg\")\n",
    "E2 = 8"
   ]
  },
  {
   "cell_type": "code",
   "execution_count": 106,
   "metadata": {},
   "outputs": [
    {
     "name": "stdout",
     "output_type": "stream",
     "text": [
      "0.0\n"
     ]
    },
    {
     "data": {
      "image/png": "[encoded data removed]",
      "text/plain": [
       "<matplotlib.figure.Figure at 0x7feedfe7f588>"
      ]
     },
     "metadata": {},
     "output_type": "display_data"
    }
   ],
   "source": [
    "new = np.zeros((img.shape[0],img.shape[1]))\n",
    "# new = cv2.cvtColor(new, cv2.COLOR_RGB2GRAY)\n",
    "# new = Image.new(\"L\", (img.shape[0], img.shape[1]))\n",
    "\n",
    "print(new[0][0])\n",
    "\n",
    "\n",
    "# rows, cols = new.shape\n",
    "# new[(rows + 100)//2, (cols + 100)//2] = 1.0\n",
    "\n",
    "# plt.figure(figsize=(6, 6))\n",
    "plt.imshow(new, cmap = 'gray');\n",
    "# new.show()"
   ]
  },
  {
   "cell_type": "code",
   "execution_count": 101,
   "metadata": {},
   "outputs": [],
   "source": [
    "def BGS(xt):\n",
    "    I = math.sqrt(xt[0]**2 + xt[1]**2 + xt[2]**2)\n",
    "#     match = False\n",
    "    for cw in C[linha][coluna]:\n",
    "        if (colordist(xt, cw.v) <= E2) and (brightness(xt,cw.aux[0],cw.aux[1])):\n",
    "            #atuliza codeword\n",
    "            fm = cw.v[2]\n",
    "            Rm = (fm*cw.v[0] + xt[0])/ (fm + 1)\n",
    "            Gm = (fm*cw.v[1] + xt[1])/ (fm + 1)\n",
    "            Bm = (fm*cw.v[2] + xt[2])/ (fm + 1)\n",
    "            cw.v = (Rm, Gm, Bm)\n",
    "            cw.aux[0] = min(I, cw.aux[0])\n",
    "            cw.aux[1] = max(I, cw.aux[1])\n",
    "            cw.aux[2] = fm + 1\n",
    "#                 cw.aux[3] = max(cw.aux[3], t - cw.aux[5])\n",
    "            cw.aux[4] = cw.aux[4] ### ???\n",
    "#                 cw.aux[5] = t\n",
    "#                     match = True\n",
    "            return True\n",
    "#                 print(\"entrou\")\n",
    "        return False"
   ]
  },
  {
   "cell_type": "code",
   "execution_count": 107,
   "metadata": {},
   "outputs": [],
   "source": [
    "for linha in range(img.shape[0]):\n",
    "    for coluna in range(img.shape[1]):\n",
    "        match = BGS(img[linha][coluna])\n",
    "        if match:\n",
    "            new[linha,coluna] = 255.0\n",
    "\n",
    "\n",
    "\n",
    "infile.close()"
   ]
  },
  {
   "cell_type": "code",
   "execution_count": 108,
   "metadata": {},
   "outputs": [
    {
     "data": {
      "text/plain": [
       "<matplotlib.image.AxesImage at 0x7feecff0c390>"
      ]
     },
     "execution_count": 108,
     "metadata": {},
     "output_type": "execute_result"
    },
    {
     "data": {
      "image/png": "[encoded data removed]",
      "text/plain": [
       "<matplotlib.figure.Figure at 0x7feedfebc4e0>"
      ]
     },
     "metadata": {},
     "output_type": "display_data"
    }
   ],
   "source": [
    "plt.imshow(new, cmap = 'gray')"
   ]
  },
  {
   "cell_type": "code",
   "execution_count": null,
   "metadata": {},
   "outputs": [],
   "source": []
  }
 ],
 "metadata": {
  "kernelspec": {
   "display_name": "Python 3",
   "language": "python",
   "name": "python3"
  },
  "language_info": {
   "codemirror_mode": {
    "name": "ipython",
    "version": 3
   },
   "file_extension": ".py",
   "mimetype": "text/x-python",
   "name": "python",
   "nbconvert_exporter": "python",
   "pygments_lexer": "ipython3",
   "version": "3.5.2"
  }
 },
 "nbformat": 4,
 "nbformat_minor": 2
}
