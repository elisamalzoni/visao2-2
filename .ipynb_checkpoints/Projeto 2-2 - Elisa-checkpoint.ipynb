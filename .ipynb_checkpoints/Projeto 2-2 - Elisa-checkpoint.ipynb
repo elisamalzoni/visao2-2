{
 "cells": [
  {
   "cell_type": "markdown",
   "metadata": {},
   "source": [
    "## Elisa Malzoni"
   ]
  },
  {
   "cell_type": "markdown",
   "metadata": {},
   "source": [
    "___\n",
    "## Projeto 2-2: Contagem de Pessoas\n",
    "\n",
    "**Motivação**: http://www.cvg.reading.ac.uk/PETS2009/a.html#s1\n",
    "\n",
    "Objetivo: Vocês devem tentar realizar a contagem de pessoas no dataset S1.L1 utilizando o modelo de codebook. As imagens foram distribuídas via pendrive.\n",
    "\n",
    "Requisitos:\n",
    "  * Tem que usar o modelo de codebook do artigo.\n",
    "  * A partir da separação do foreground, vocês podem utilizar qualquer método para realizar a contagem, incluindo Clustering ou Machine Learning.\n",
    "  * O Repositório no Git deve conter além do código fonte, os dados do codebook treinado salvo com Pickle e um relatório do projeto.\n",
    "  * O relatório deve conter a metodologia utilizada (incluindo treinamento) e comentário sobre os resultados obtidos.\n",
    "\n",
    "### Entrega: 03/Out 23:59 via GitHub.\n",
    "\n",
    "### Rubrica do Projeto:\n",
    "\n",
    "    I. Não entregou ou entregou apenas um rascunho.\n",
    "    D. Implementou parcialmente o artigo ou não realizou a contagem.\n",
    "    C. Implementou a sessão 2 do artigo e realizou uma contagem de forma simples.\n",
    "    B. Cumpriu a rubrica C com a implementação completa do codebook.\n",
    "    A. Além de cumprir a rubrica B, realiza a contagem com uma técnica elaborada.\n",
    "    \n",
    "    -1 Conceito se o relatório estiver ausente ou insatisfatório."
   ]
  },
  {
   "cell_type": "markdown",
   "metadata": {},
   "source": []
  },
  {
   "cell_type": "code",
   "execution_count": null,
   "metadata": {},
   "outputs": [],
   "source": [
    "import cv2\n",
    "import numpy as np\n",
    "import matplotlib.pyplot as plt\n",
    "import math\n",
    "import time\n",
    "\n",
    "class Codeword():\n",
    "    def __init__(self, RGBvector, aux):\n",
    "        RGBvector.self = RGBvector\n",
    "        aux.self = aux\n",
    "    \n",
    "    def R(self):\n",
    "        return self.RGBvector[0]\n",
    "\n",
    "    def G(self):\n",
    "        return self.RGBvector[1]\n",
    "    \n",
    "    def B(self):\n",
    "        return self.RGBvector[2]\n",
    "        \n",
    "    def min_brightness(self):  #min brightness of all pixels assigned to this codeword Ǐ\n",
    "        return self.aux[0]\n",
    "\n",
    "    def max_brightness(self):  #max brightness of all pixels assigned to this codeword Î\n",
    "        return self.aux[1]\n",
    "\n",
    "    def frequency(self):       #frequency with which the codeword has ocurred f\n",
    "        return self.aux[2]\n",
    "\n",
    "    def mnrl(self):            #lambda, maximum negative run-length, longest interval during the \n",
    "        return self.aux[3]     #training period that the codeword has NOT recurred\n",
    "\n",
    "    def p(self):               #first access time that the codeword has occurred\n",
    "        return self.aux[4]\n",
    "    \n",
    "    def q(self):               #last access time that the codeword has occurred\n",
    "        return self.aux[5]\n",
    "    \n",
    "\n",
    "def colordist(xt, cw): #um pixel, codeword\n",
    "    normaxt2 = ((xt[0]**2) + (xt[1]**2) + (xt[2]**2))\n",
    "    normavi2 = cw.R()**2 + cw.G()**2 +cw.B()**2\n",
    "    tupxtvi2 = (cw.R()*xt[0] + cw.G()*xt[1] + cw.B()*xt[2])**2\n",
    "    p2 = (tupxtvi2/normavi2)\n",
    "    return math.sqrt((normaxt2) - (p2))\n",
    "\n",
    "## Ilow Ihi \n",
    "\n",
    "def brightness(I,(min, max), xt):\n",
    "    normaxt = math.sqrt(xt.R() + xt.G() + xt.B())\n",
    "    if (Ilow <= normaxt and normaxt <= Ihi):\n",
    "        return True\n",
    "    return False\n",
    "\n",
    "\n",
    "def codebook(training_seq):\n",
    "    for i in len(training_seq):\n",
    "        x = training_seq[i]\n",
    "        I = math.sqrt((x[0]**2) + (x[1]**2) + (x[2]**2))\n"
   ]
  }
 ],
 "metadata": {
  "kernelspec": {
   "display_name": "Python 3",
   "language": "python",
   "name": "python3"
  },
  "language_info": {
   "codemirror_mode": {
    "name": "ipython",
    "version": 3
   },
   "file_extension": ".py",
   "mimetype": "text/x-python",
   "name": "python",
   "nbconvert_exporter": "python",
   "pygments_lexer": "ipython3",
   "version": "3.5.2"
  }
 },
 "nbformat": 4,
 "nbformat_minor": 2
}
